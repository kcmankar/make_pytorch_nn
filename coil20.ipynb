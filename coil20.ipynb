{
 "cells": [
  {
   "cell_type": "code",
   "execution_count": 0,
   "metadata": {
    "colab": {},
    "colab_type": "code",
    "id": "ro6DRIYsZIED"
   },
   "outputs": [],
   "source": [
    "import os\n",
    "images_list = os.listdir(\"--Path---/coil-20-proc\")"
   ]
  },
  {
   "cell_type": "code",
   "execution_count": 0,
   "metadata": {
    "colab": {},
    "colab_type": "code",
    "id": "2iOzBd0iaXVF"
   },
   "outputs": [],
   "source": [
    "images_list.sort()"
   ]
  },
  {
   "cell_type": "code",
   "execution_count": 0,
   "metadata": {
    "colab": {},
    "colab_type": "code",
    "id": "JBNrIRcPaeJy"
   },
   "outputs": [],
   "source": [
    "name = []\n",
    "for imname in images_list:\n",
    "  name.append(imname[3:6])"
   ]
  },
  {
   "cell_type": "code",
   "execution_count": 0,
   "metadata": {
    "colab": {},
    "colab_type": "code",
    "id": "Idhzqou4c3zP"
   },
   "outputs": [],
   "source": [
    "final_name=[]\n",
    "for i in name:\n",
    "  j = i.split(sep='_')\n",
    "  final_name.append(int(j[0])-1)\n",
    "\n"
   ]
  },
  {
   "cell_type": "code",
   "execution_count": 7,
   "metadata": {
    "colab": {
     "base_uri": "https://localhost:8080/",
     "height": 260
    },
    "colab_type": "code",
    "id": "1a1gW28ReZm4",
    "outputId": "ba825ba4-d912-42ca-ac77-dbc52db462d9"
   },
   "outputs": [
    {
     "name": "stdout",
     "output_type": "stream",
     "text": [
      "Number 100\n",
      "Number 200\n",
      "Number 300\n",
      "Number 400\n",
      "Number 500\n",
      "Number 600\n",
      "Number 700\n",
      "Number 800\n",
      "Number 900\n",
      "Number 1000\n",
      "Number 1100\n",
      "Number 1200\n",
      "Number 1300\n",
      "Number 1400\n"
     ]
    }
   ],
   "source": [
    "import cv2\n",
    "import numpy as np\n",
    "x = []\n",
    "i=0\n",
    "for filename in images_list:\n",
    "  im = cv2.imread('--path--/coil-20-proc/'+filename)\n",
    "  x.append(np.asarray(im))\n",
    "  i+=1\n",
    "  if(i%100==0):\n",
    "    print(\"Number {}\".format(i))\n"
   ]
  },
  {
   "cell_type": "code",
   "execution_count": 8,
   "metadata": {
    "colab": {
     "base_uri": "https://localhost:8080/",
     "height": 285
    },
    "colab_type": "code",
    "id": "owXvZ_PYe_uu",
    "outputId": "287566ec-df4a-4831-c282-464f12d8131d"
   },
   "outputs": [
    {
     "data": {
      "text/plain": [
       "<matplotlib.image.AxesImage at 0x7f957b50c550>"
      ]
     },
     "execution_count": 8,
     "metadata": {
      "tags": []
     },
     "output_type": "execute_result"
    },
    {
     "data": {
      "image/png": "[encoded data removed]",
      "text/plain": [
       "<Figure size 432x288 with 1 Axes>"
      ]
     },
     "metadata": {
      "tags": []
     },
     "output_type": "display_data"
    }
   ],
   "source": [
    "import matplotlib.pyplot as plt\n",
    "plt.imshow(x[909])"
   ]
  },
  {
   "cell_type": "code",
   "execution_count": 9,
   "metadata": {
    "colab": {
     "base_uri": "https://localhost:8080/",
     "height": 52
    },
    "colab_type": "code",
    "id": "J9PY3pIBgJrd",
    "outputId": "8ff88034-18f6-450e-98b3-89b905ef0679"
   },
   "outputs": [
    {
     "name": "stdout",
     "output_type": "stream",
     "text": [
      "Lenght of x 1484\n",
      "Lenght of y 1484\n"
     ]
    }
   ],
   "source": [
    "x = np.array(x)\n",
    "y = np.array(final_name)\n",
    "print(\"Lenght of x {}\\nLenght of y {}\".format(len(x),len(y)))"
   ]
  },
  {
   "cell_type": "code",
   "execution_count": 0,
   "metadata": {
    "colab": {},
    "colab_type": "code",
    "id": "bsnnHU1nhLqz"
   },
   "outputs": [],
   "source": [
    "import torch\n",
    "from torch.utils.data import DataLoader, TensorDataset\n",
    "import torch.nn as nn\n",
    "from torch import Tensor\n",
    "from sklearn.model_selection import train_test_split\n",
    "from torch.optim import Adam\n",
    "from sklearn.metrics import accuracy_score"
   ]
  },
  {
   "cell_type": "code",
   "execution_count": 0,
   "metadata": {
    "colab": {},
    "colab_type": "code",
    "id": "MVY-dOI2hgV5"
   },
   "outputs": [],
   "source": [
    "x_train,x_test,y_train,y_test = train_test_split(x,y,random_state=3)"
   ]
  },
  {
   "cell_type": "code",
   "execution_count": 0,
   "metadata": {
    "colab": {},
    "colab_type": "code",
    "id": "y2sTQkaElnvQ"
   },
   "outputs": [],
   "source": [
    "xtrain =torch.from_numpy(x_train)\n",
    "ytrain = torch.from_numpy(y_train)\n",
    "xtest =torch.from_numpy(x_test)\n",
    "ytest = torch.from_numpy(y_test)\n",
    "xtrain = xtrain.reshape(len(y_train),3,128,128)\n",
    "xtest =xtest.reshape(len(y_test),3,128,128)"
   ]
  },
  {
   "cell_type": "code",
   "execution_count": 0,
   "metadata": {
    "colab": {},
    "colab_type": "code",
    "id": "9A-Woe18lxj5"
   },
   "outputs": [],
   "source": [
    "dataset = TensorDataset(xtrain,ytrain)\n",
    "dataset_test = TensorDataset(xtest,ytest)\n",
    "loader = DataLoader(dataset,batch_size = 3)\n",
    "test_loader = DataLoader(dataset_test,batch_size=3)"
   ]
  },
  {
   "cell_type": "code",
   "execution_count": 0,
   "metadata": {
    "colab": {},
    "colab_type": "code",
    "id": "oUtImSTOl75c"
   },
   "outputs": [],
   "source": [
    "class CNN(nn.Module):\n",
    "  def __init__(self):\n",
    "    super(CNN,self).__init__()\n",
    "    self.layer1 = nn.Sequential(\n",
    "        nn.Conv2d(3,6,4),\n",
    "        nn.ReLU(),\n",
    "        nn.BatchNorm2d(6),\n",
    "        nn.MaxPool2d(3)\n",
    "    )\n",
    "    self.layer2 = nn.Sequential(\n",
    "        nn.Conv2d(6,8,4),\n",
    "        nn.ReLU(),\n",
    "        nn.BatchNorm2d(8),\n",
    "        nn.MaxPool2d(3)\n",
    "    )\n",
    "    self.layer3 = nn.Linear(1152,80)\n",
    "    self.layer4 = nn.Linear(80,20)\n",
    "    #self.layer5 = nn.Softmax(dim=1)\n",
    "  def forward(self,n):\n",
    "    out = self.layer1(n)\n",
    "    out = self.layer2(out)\n",
    "    out = out.view(out.size(0),-1)\n",
    "    out = self.layer3(out)\n",
    "    out = self.layer4(out)\n",
    "    #out = self.layer5(out)\n",
    "    return out\n",
    "\n"
   ]
  },
  {
   "cell_type": "code",
   "execution_count": 0,
   "metadata": {
    "colab": {},
    "colab_type": "code",
    "id": "MBG_f2ZumzIB"
   },
   "outputs": [],
   "source": [
    "learning_rate = 0.01\n",
    "model = CNN()\n",
    "model.cuda()\n",
    "criterion = nn.CrossEntropyLoss()\n",
    "criterion.cuda()\n",
    "optimizer = Adam(model.parameters(), lr=learning_rate)"
   ]
  },
  {
   "cell_type": "code",
   "execution_count": 0,
   "metadata": {
    "colab": {},
    "colab_type": "code",
    "id": "bsnr9HdXxf54"
   },
   "outputs": [],
   "source": [
    "total_steps = len(loader)\n",
    "loss_list = []\n",
    "acc_list = []\n",
    "num_epochs=3\n",
    "total_train=0"
   ]
  },
  {
   "cell_type": "code",
   "execution_count": 66,
   "metadata": {
    "colab": {
     "base_uri": "https://localhost:8080/",
     "height": 330
    },
    "colab_type": "code",
    "id": "Bf7z0LMkxv-X",
    "outputId": "3dbf86b6-8bac-4b73-8803-9b8b2c8dd222"
   },
   "outputs": [
    {
     "name": "stdout",
     "output_type": "stream",
     "text": [
      "*------------OUTPUT---------------*\n",
      "Number of Epoch : 0\n",
      "Number of Step : 1113/371\n",
      "Total Steps : 1113\n",
      "Accuracy : 0.6666666666666666\n",
      "Average Accuracy : 58.31\n",
      "*------------OUTPUT---------------*\n",
      "Number of Epoch : 1\n",
      "Number of Step : 1113/371\n",
      "Total Steps : 2226\n",
      "Accuracy : 0.6666666666666666\n",
      "Average Accuracy : 87.24\n",
      "*------------OUTPUT---------------*\n",
      "Number of Epoch : 2\n",
      "Number of Step : 1113/371\n",
      "Total Steps : 3339\n",
      "Accuracy : 0.3333333333333333\n",
      "Average Accuracy : 83.65\n"
     ]
    }
   ],
   "source": [
    "for epoch in range(num_epochs):\n",
    "  acc_list=[]\n",
    "  base=0\n",
    "  ll=[]\n",
    "  for i,(image,label) in enumerate(loader):\n",
    "    image = image.float()\n",
    "    outputs = model(image.cuda())\n",
    "    loss = criterion(outputs,label.cuda())\n",
    "    loss_list.append(loss.item())\n",
    "    optimizer.zero_grad()\n",
    "    loss.backward()\n",
    "    optimizer.step()\n",
    "    total_train+=label.size(0)\n",
    "    base+=label.size(0)\n",
    "    pred = nn.Softmax(outputs)\n",
    "    pred = torch.argmax(pred.dim,axis=1)\n",
    "    accc=accuracy_score(label.cpu(),pred.cpu())\n",
    "    for i in range(0,len(pred)):\n",
    "      acc_list.append(pred[i].data.item())\n",
    "      ll.append(label[i].data.item())\n",
    "  print(\"*------------OUTPUT---------------*\")\n",
    "  print(\"Number of Epoch : {}\\nNumber of Step : {}/{}\\nTotal Steps : {}\\nAccuracy : {}\\nAverage Accuracy : {:.2f}\".format(epoch,base,total_steps,total_train,accc,accuracy_score(ll,acc_list)*100))\n",
    "    \n",
    "\n",
    "\n"
   ]
  },
  {
   "cell_type": "code",
   "execution_count": 67,
   "metadata": {
    "colab": {
     "base_uri": "https://localhost:8080/",
     "height": 282
    },
    "colab_type": "code",
    "id": "fDDLsUmuy86y",
    "outputId": "de7b8d0c-ac83-4539-91ea-6b5c041ce163"
   },
   "outputs": [
    {
     "data": {
      "text/plain": [
       "[<matplotlib.lines.Line2D at 0x7f9518435ef0>]"
      ]
     },
     "execution_count": 67,
     "metadata": {
      "tags": []
     },
     "output_type": "execute_result"
    },
    {
     "data": {
      "image/png": "[encoded data removed]",
      "text/plain": [
       "<Figure size 432x288 with 1 Axes>"
      ]
     },
     "metadata": {
      "tags": []
     },
     "output_type": "display_data"
    }
   ],
   "source": [
    "plt.plot(loss_list)"
   ]
  },
  {
   "cell_type": "code",
   "execution_count": 69,
   "metadata": {
    "colab": {
     "base_uri": "https://localhost:8080/",
     "height": 52
    },
    "colab_type": "code",
    "id": "vH6X2K7E2_JA",
    "outputId": "227f5f5a-d1f7-497f-c479-5d1701391266"
   },
   "outputs": [
    {
     "name": "stdout",
     "output_type": "stream",
     "text": [
      "Current Accuracy : 100.00\n",
      "Overall Accuracy of model is 85.9838 %\n"
     ]
    }
   ],
   "source": [
    "model.eval()  # eval mode (batchnorm uses moving mean/variance instead of mini-batch mean/variance)\n",
    "with torch.no_grad():\n",
    "    acc_list1=[]\n",
    "    ll1=[]\n",
    "    for images, labels in test_loader:\n",
    "        images = images.cuda()\n",
    "        labels = labels.cuda()\n",
    "        outputs = model(images.float())\n",
    "        pred = nn.Softmax(outputs)\n",
    "        pred = torch.argmax(pred.dim,axis=1)\n",
    "        accc=accuracy_score(labels.cpu(),pred.cpu())\n",
    "        for i in range(0,len(pred)):\n",
    "          acc_list1.append(pred[i].data.item())\n",
    "          ll1.append(labels[i].data.item())\n",
    "print(\"Current Accuracy : {:.2f}\\nOverall Accuracy of model is {:.4f} %\".format(accc*100,accuracy_score(ll1,acc_list1)*100))\n"
   ]
  },
  {
   "cell_type": "code",
   "execution_count": 0,
   "metadata": {
    "colab": {},
    "colab_type": "code",
    "id": "se-_L_Dd4U76"
   },
   "outputs": [],
   "source": []
  }
 ],
 "metadata": {
  "accelerator": "GPU",
  "colab": {
   "collapsed_sections": [],
   "name": "coil20.ipynb",
   "provenance": []
  },
  "kernelspec": {
   "display_name": "Python 3",
   "language": "python",
   "name": "python3"
  },
  "language_info": {
   "codemirror_mode": {
    "name": "ipython",
    "version": 3
   },
   "file_extension": ".py",
   "mimetype": "text/x-python",
   "name": "python",
   "nbconvert_exporter": "python",
   "pygments_lexer": "ipython3",
   "version": "3.6.9"
  }
 },
 "nbformat": 4,
 "nbformat_minor": 1
}
